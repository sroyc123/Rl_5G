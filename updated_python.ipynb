{
 "cells": [
  {
   "cell_type": "markdown",
   "metadata": {
    "id": "r9aqpREHVIpB"
   },
   "source": [
    "# Deep Q-Network"
   ]
  },
  {
   "cell_type": "code",
   "execution_count": 44,
   "metadata": {
    "id": "N8RtzsJEVIpG"
   },
   "outputs": [],
   "source": [
    "#Imports\n",
    "import numpy as np\n",
    "import matplotlib.pyplot as plt\n",
    "from collections import deque\n",
    "import tensorflow as tf\n",
    "from tensorflow import keras\n",
    "import random\n",
    "import matlab.engine"
   ]
  },
  {
   "cell_type": "code",
   "execution_count": 45,
   "metadata": {},
   "outputs": [],
   "source": [
    "eng=matlab.engine.start_matlab()"
   ]
  },
  {
   "cell_type": "code",
   "execution_count": 46,
   "metadata": {
    "id": "1f-qFfjGVIpO"
   },
   "outputs": [],
   "source": [
    "#Global Variables\n",
    "EPISODES = 1\n",
    "TRAIN_END = 0"
   ]
  },
  {
   "cell_type": "code",
   "execution_count": 47,
   "metadata": {
    "id": "xEv2fsseVIpO"
   },
   "outputs": [],
   "source": [
    "#Hyper Parameters\n",
    "def discount_rate(): #Gamma\n",
    "    return 0.95\n",
    "\n",
    "def learning_rate(): #Alpha\n",
    "    return 0.001\n",
    "\n",
    "def batch_size(): #Size of the batch used in the experience replay\n",
    "    return 20"
   ]
  },
  {
   "cell_type": "code",
   "execution_count": 48,
   "metadata": {},
   "outputs": [],
   "source": [
    "R=[]"
   ]
  },
  {
   "cell_type": "code",
   "execution_count": 49,
   "metadata": {
    "id": "69YfUyM5VIpP"
   },
   "outputs": [],
   "source": [
    "class DeepQNetwork():\n",
    "    def __init__(self, states, actions, alpha, gamma, epsilon,epsilon_min, epsilon_decay):\n",
    "        self.nS = states\n",
    "        self.nA = actions\n",
    "        self.memory = deque([], maxlen=250000)\n",
    "        self.alpha = alpha\n",
    "        self.gamma = gamma\n",
    "        #Explore/Exploit\n",
    "        self.epsilon = epsilon\n",
    "        self.epsilon_min = epsilon_min\n",
    "        self.epsilon_decay = epsilon_decay\n",
    "        self.model = self.build_model()\n",
    "        self.loss = []\n",
    "        \n",
    "    def build_model(self):\n",
    "        model = keras.Sequential() \n",
    "        model.add(keras.layers.Dense(24, input_dim=self.nS, activation='relu')) \n",
    "        model.add(keras.layers.Dense(24, activation='relu')) \n",
    "        model.add(keras.layers.Dense(self.nA, activation='linear')) \n",
    "        model.compile(loss='mean_squared_error',optimizer=keras.optimizers.Adam(lr=self.alpha)) \n",
    "        return model\n",
    "    import math\n",
    "\n",
    "    def sigmoid(x):\n",
    "        return 1 / (1 + math.exp(-x))\n",
    "    def action(self, state):\n",
    "        if np.random.rand() <= self.epsilon:\n",
    "            return np.random.randint(0,3,(int(nA/3)))\n",
    "        action_vals = self.model.predict(state) \n",
    "        temp=np.array(action_vals[0]);\n",
    "        action_2d=np.reshape(temp, (int(nA/3), 3));\n",
    "        action_val=np.argmax(action_2d, axis=1);\n",
    "        return action_val\n",
    "\n",
    "    def test_action(self, state): \n",
    "        temp=np.array(action_vals[0]);\n",
    "        action_2d=np.reshape(temp, (int(nA/3), 3));\n",
    "        action_val=np.argmax(action_2d, axis=1);\n",
    "        return action_val\n",
    "\n",
    "    def store(self, state, action, reward, nstate, done):\n",
    "        self.memory.append( (state, action, reward, nstate, done) )\n",
    "\n",
    "    def experience_replay(self, batch_size):\n",
    "        minibatch = random.sample( self.memory, batch_size ) \n",
    "        x = []\n",
    "        y = []\n",
    "        np_array = np.array(minibatch)\n",
    "        st = np.zeros((0,self.nS)) \n",
    "        nst = np.zeros((0,self.nS))\n",
    "        for i in range(len(np_array)): \n",
    "            st = np.append( st, np_array[i,0], axis=0)\n",
    "            nst = np.append( nst, np_array[i,3], axis=0)\n",
    "        st_predict = self.model.predict(st)\n",
    "        nst_predict = self.model.predict(nst)\n",
    "        index = 0\n",
    "        for state, action, reward, nstate, done in minibatch:\n",
    "            x.append(state)\n",
    "            nst_action_predict_model = nst_predict[index]\n",
    "            nst_action_predict_model_2d= np.reshape(nst_action_predict_model, (int(nA/3), 3));\n",
    "            target=np.zeros(int(nA/3));\n",
    "            if done == True: \n",
    "                target = target + reward\n",
    "            else:   \n",
    "                target = reward + self.gamma * np.amax(nst_action_predict_model_2d, axis=1);\n",
    "            qtobeupdated= np.argmax(nst_action_predict_model_2d, axis=1);\n",
    "            target_f = st_predict[index]           \n",
    "            for i in range(int(nA/3)):\n",
    "              cnt=i*3+qtobeupdated[i];\n",
    "              target_f[cnt]=target[i];\n",
    "                \n",
    "            y.append(target_f)\n",
    "            index += 1\n",
    "\n",
    "        x_reshape = np.array(x).reshape(batch_size,self.nS)\n",
    "        y_reshape = np.array(y)\n",
    "        epoch_count = 1 \n",
    "        hist = self.model.fit(x_reshape, y_reshape, epochs=epoch_count, verbose=0)\n",
    "        for i in range(epoch_count):\n",
    "            self.loss.append( hist.history['loss'][i] )\n",
    "        if self.epsilon > self.epsilon_min:\n",
    "            self.epsilon *= self.epsilon_decay"
   ]
  },
  {
   "cell_type": "code",
   "execution_count": 50,
   "metadata": {
    "id": "4kb9C0n1VIpR"
   },
   "outputs": [],
   "source": [
    "#Create the agent\n",
    "nS = 10\n",
    "nA = 3*nS\n",
    "dqn = DeepQNetwork(nS, nA, learning_rate(), discount_rate(), 1, 0.001, 0.995 )\n",
    "\n",
    "batch_size = batch_size()"
   ]
  },
  {
   "cell_type": "code",
   "execution_count": 51,
   "metadata": {},
   "outputs": [
    {
     "name": "stdout",
     "output_type": "stream",
     "text": [
      "10\n"
     ]
    }
   ],
   "source": [
    "print(nS)"
   ]
  },
  {
   "cell_type": "code",
   "execution_count": 55,
   "metadata": {
    "id": "BjNQD_N4RMb_"
   },
   "outputs": [],
   "source": [
    "basepower=1;\n",
    "powerratio=10;\n",
    "numberoflevels=3;\n",
    "maxpower=basepower* (powerratio ** (numberoflevels -1));"
   ]
  },
  {
   "cell_type": "code",
   "execution_count": null,
   "metadata": {
    "id": "NSlkjkP9VIpS",
    "outputId": "c9491d6a-072a-41a6-b2ad-346d82d236b1"
   },
   "outputs": [
    {
     "name": "stdout",
     "output_type": "stream",
     "text": [
      "0 : 130.5708869443878 [ 1.  1. 10. 10.  1.  1.  1. 10. 10. 10.]\n",
      "1 : 113.3239910549212 [  1.  10.  10.  10.   1.   1.  10. 100. 100.   1.]\n",
      "2 : 132.75224246072915 [  1.  10.  10. 100.   1.   1. 100.  10. 100.   1.]\n",
      "3 : 116.45150936261288 [ 10.   1.   1.  10.   1.   1.  10.   1. 100.   1.]\n",
      "4 : 119.34670704725957 [ 10.  10.   1. 100.   1.   1.  10.   1. 100.   1.]\n",
      "5 : 119.25320150812371 [  1. 100.   1. 100.  10.   1. 100.   1. 100.  10.]\n",
      "6 : 123.31972344263417 [  1.  10.   1.  10.   1.   1. 100.   1. 100.   1.]\n",
      "7 : 131.54718855958438 [ 10.   1.  10.  10.   1.   1. 100.  10. 100.  10.]\n"
     ]
    }
   ],
   "source": [
    "#Training\n",
    "rewards = [] \n",
    "epsilons = [] \n",
    "TEST_Episodes = 0\n",
    "for e in range(EPISODES):\n",
    "    state = np.zeros(nS) \n",
    "    state=state+basepower;\n",
    "    nstate = np.zeros(nS) \n",
    "    tot_rewards = 0\n",
    "    for time in range(1000): \n",
    "        action_val = dqn.action(state)\n",
    "        state = np.reshape(state,nS);\n",
    "        nstate = np.reshape(nstate,nS);\n",
    "        nstate[action_val==2]=state[action_val==2]*powerratio;\n",
    "        nstate[action_val==0]=state[action_val==0]/powerratio;\n",
    "        nstate[action_val==1]=state[action_val==1];\n",
    "        nstate[nstate<basepower]=basepower;\n",
    "        nstate[nstate>maxpower]=maxpower;\n",
    "        \n",
    "        xnstate= matlab.double(nstate.tolist())\n",
    "        reward= eng.fxn(xnstate);\n",
    "        print(time,':',reward,nstate)\n",
    "        R.append(reward)\n",
    "        done =False\n",
    "        \n",
    "        tot_rewards += reward\n",
    "        state = np.reshape(state, [1, nS])\n",
    "        nstate = np.reshape(nstate, [1, nS])\n",
    "        dqn.store(state, action_val, reward, nstate, done) \n",
    "        state = nstate\n",
    "        if done or time == 1000:\n",
    "            rewards.append(tot_rewards)\n",
    "            epsilons.append(dqn.epsilon)\n",
    "            print(\"episode: {}/{}, score: {}, e: {}\"\n",
    "                  .format(e, EPISODES, tot_rewards, dqn.epsilon))\n",
    "            break\n",
    "        if len(dqn.memory) > batch_size:\n",
    "            dqn.experience_replay(batch_size)\n"
   ]
  },
  {
   "cell_type": "code",
   "execution_count": 132,
   "metadata": {},
   "outputs": [],
   "source": [
    "import csv\n",
    "with open('Reward','w') as f:\n",
    "    write = csv.writer(f)\n",
    "    write.writerow(R)"
   ]
  },
  {
   "cell_type": "code",
   "execution_count": 133,
   "metadata": {},
   "outputs": [],
   "source": [
    "eng.quit()"
   ]
  },
  {
   "cell_type": "code",
   "execution_count": 134,
   "metadata": {
    "id": "N9QBdbGLVIpV",
    "outputId": "46f26117-a37f-4077-a685-abdb1d40a431"
   },
   "outputs": [],
   "source": [
    "for e_test in range(TEST_Episodes):\n",
    "    state = np.zeros(nS) # Resize to store in memory to pass to .predict\n",
    "    #define start state here\n",
    "    nstate = np.zeros(nS) \n",
    "    tot_rewards = 0\n",
    "    for t_test in range(210):\n",
    "        # action = dqn.test_action(state)\n",
    "        # nstate, reward, done, _ = envCartPole.step(action)\n",
    "        # nstate = np.reshape( nstate, [1, nS])\n",
    "        action_val = dqn.action(state)\n",
    "\n",
    "        nstate[action_val==2]=state[action_val==2]*powerratio;\n",
    "        nstate[action_val==0]=state[action_val==0]/powerratio;\n",
    "        nstate[action_val==1]=state[action_val==1];\n",
    "        nstate[nstate<basepower]=basepower;\n",
    "        nstate[nstate>maxpower]=maxpower;\n",
    "        # action = dqn.action(state)\n",
    "        # nstate[action>=0.75]=state[action>=0.75]+1;\n",
    "        # nstate[action<=0.25]=state[action<=0.25]-1;\n",
    "        # nstate[(action>=0.25)|(action<=0.75)]=state[(action>=0.25)|(action<=0.75)];\n",
    "        # nstate[nstate<1]=1;\n",
    "        # nstate[nstate>4]=4;\n",
    "        #get reward from matlab here and send the next state\n",
    "        #nstate, reward, done, _ = envCartPole.step(action)\n",
    "        done =false\n",
    "        \n",
    "        tot_rewards += reward\n",
    "        #DON'T STORE ANYTHING DURING TESTING\n",
    "        state = nstate\n",
    "        #done: CartPole fell. \n",
    "        #t_test == 209: CartPole stayed upright\n",
    "        if done or t_test == 209: \n",
    "            rewards.append(tot_rewards)\n",
    "            epsilons.append(0) #We are doing full exploit\n",
    "            print(\"episode: {}/{}, score: {}, e: {}\"\n",
    "                  .format(e_test, TEST_Episodes, tot_rewards, 0))\n",
    "            break;"
   ]
  },
  {
   "cell_type": "code",
   "execution_count": 135,
   "metadata": {
    "id": "MtPjVKy0VIpW",
    "outputId": "236b7e58-bd14-4875-8ae4-d6f9842dd7e4"
   },
   "outputs": [
    {
     "data": {
      "image/png": "[encoded data removed]",
      "text/plain": [
       "<Figure size 432x288 with 1 Axes>"
      ]
     },
     "metadata": {
      "needs_background": "light"
     },
     "output_type": "display_data"
    },
    {
     "ename": "NameError",
     "evalue": "name 'envCartPole' is not defined",
     "output_type": "error",
     "traceback": [
      "\u001b[0;31m---------------------------------------------------------------------------\u001b[0m",
      "\u001b[0;31mNameError\u001b[0m                                 Traceback (most recent call last)",
      "\u001b[0;32m<ipython-input-135-087450751fa3>\u001b[0m in \u001b[0;36m<module>\u001b[0;34m\u001b[0m\n\u001b[1;32m     14\u001b[0m \u001b[0;34m\u001b[0m\u001b[0m\n\u001b[1;32m     15\u001b[0m \u001b[0;34m\u001b[0m\u001b[0m\n\u001b[0;32m---> 16\u001b[0;31m \u001b[0menvCartPole\u001b[0m\u001b[0;34m.\u001b[0m\u001b[0mclose\u001b[0m\u001b[0;34m(\u001b[0m\u001b[0;34m)\u001b[0m\u001b[0;34m\u001b[0m\u001b[0;34m\u001b[0m\u001b[0m\n\u001b[0m",
      "\u001b[0;31mNameError\u001b[0m: name 'envCartPole' is not defined"
     ]
    }
   ],
   "source": [
    "rolling_average = np.convolve(rewards, np.ones(100)/100)\n",
    "\n",
    "plt.plot(rewards)\n",
    "plt.plot(rolling_average, color='black')\n",
    "plt.axhline(y=195, color='r', linestyle='-') #Solved Line\n",
    "#Scale Epsilon (0.001 - 1.0) to match reward (0 - 200) range\n",
    "eps_graph = [200*x for x in epsilons]\n",
    "plt.plot(eps_graph, color='g', linestyle='-')\n",
    "#Plot the line where TESTING begins\n",
    "plt.axvline(x=TRAIN_END, color='y', linestyle='-')\n",
    "plt.xlim( (0,EPISODES) )\n",
    "plt.ylim( (0,220) )\n",
    "plt.show()\n",
    "\n",
    "\n",
    "envCartPole.close()"
   ]
  }
 ],
 "metadata": {
  "colab": {
   "collapsed_sections": [],
   "name": "UQamDQNwork.ipynb",
   "provenance": []
  },
  "kernelspec": {
   "display_name": "Python 3",
   "language": "python",
   "name": "python3"
  },
  "language_info": {
   "codemirror_mode": {
    "name": "ipython",
    "version": 3
   },
   "file_extension": ".py",
   "mimetype": "text/x-python",
   "name": "python",
   "nbconvert_exporter": "python",
   "pygments_lexer": "ipython3",
   "version": "3.7.3"
  }
 },
 "nbformat": 4,
 "nbformat_minor": 4
}
